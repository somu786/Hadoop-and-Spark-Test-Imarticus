{
 "cells": [
  {
   "cell_type": "markdown",
   "metadata": {
    "id": "4C8UQoFjwyzP"
   },
   "source": [
    "## Question 1: Read the given CSV file in a Hive table"
   ]
  },
  {
   "cell_type": "code",
   "execution_count": 1,
   "metadata": {
    "colab": {
     "base_uri": "https://localhost:8080/"
    },
    "executionInfo": {
     "elapsed": 54068,
     "status": "ok",
     "timestamp": 1659196968234,
     "user": {
      "displayName": "19BEC4166 Roahit S",
      "userId": "06327347452334748308"
     },
     "user_tz": -330
    },
    "id": "IL5WkBkQwyzN",
    "outputId": "46aba0aa-680a-4e75-929a-34c247fa146e"
   },
   "outputs": [],
   "source": [
    "#!pip install pyspark"
   ]
  },
  {
   "cell_type": "code",
   "execution_count": 2,
   "metadata": {
    "executionInfo": {
     "elapsed": 637,
     "status": "ok",
     "timestamp": 1659196968856,
     "user": {
      "displayName": "19BEC4166 Roahit S",
      "userId": "06327347452334748308"
     },
     "user_tz": -330
    },
    "id": "K6_nU_jazL5B"
   },
   "outputs": [],
   "source": [
    "import pyspark"
   ]
  },
  {
   "cell_type": "code",
   "execution_count": 3,
   "metadata": {
    "collapsed": true,
    "executionInfo": {
     "elapsed": 6,
     "status": "ok",
     "timestamp": 1659196968856,
     "user": {
      "displayName": "19BEC4166 Roahit S",
      "userId": "06327347452334748308"
     },
     "user_tz": -330
    },
    "id": "j7aKoXN6wyzP"
   },
   "outputs": [],
   "source": [
    "from pyspark.sql import SparkSession"
   ]
  },
  {
   "cell_type": "code",
   "execution_count": 4,
   "metadata": {
    "collapsed": true,
    "executionInfo": {
     "elapsed": 8322,
     "status": "ok",
     "timestamp": 1659196977172,
     "user": {
      "displayName": "19BEC4166 Roahit S",
      "userId": "06327347452334748308"
     },
     "user_tz": -330
    },
    "id": "9w35pHclwyzQ"
   },
   "outputs": [],
   "source": [
    "spark = SparkSession.builder.appName(\"MLhands-on\").enableHiveSupport().getOrCreate()"
   ]
  },
  {
   "cell_type": "markdown",
   "metadata": {
    "id": "ab1-mj0G2Y2t"
   },
   "source": [
    "## Question 2: Read the data from Hive table as spark dataframe"
   ]
  },
  {
   "cell_type": "markdown",
   "metadata": {},
   "source": [
    "### Reading the dataset"
   ]
  },
  {
   "cell_type": "code",
   "execution_count": 5,
   "metadata": {
    "collapsed": true,
    "executionInfo": {
     "elapsed": 11464,
     "status": "ok",
     "timestamp": 1659196988629,
     "user": {
      "displayName": "19BEC4166 Roahit S",
      "userId": "06327347452334748308"
     },
     "user_tz": -330
    },
    "id": "DiqHo-okwyzR"
   },
   "outputs": [],
   "source": [
    "df=spark.read.csv('boston.csv',header='true', inferSchema='true')"
   ]
  },
  {
   "cell_type": "markdown",
   "metadata": {},
   "source": [
    "checking cache"
   ]
  },
  {
   "cell_type": "code",
   "execution_count": 6,
   "metadata": {
    "colab": {
     "base_uri": "https://localhost:8080/"
    },
    "executionInfo": {
     "elapsed": 14,
     "status": "ok",
     "timestamp": 1659196988629,
     "user": {
      "displayName": "19BEC4166 Roahit S",
      "userId": "06327347452334748308"
     },
     "user_tz": -330
    },
    "id": "cJ8dDnxUwyzU",
    "outputId": "2f5c5391-a7a8-4da7-e311-3e9d6f7de9b6"
   },
   "outputs": [
    {
     "data": {
      "text/plain": [
       "DataFrame[CRIM: double, ZN: double, INDUS: double, CHAS: int, NOX: double, RM: double, AGE: double, DIS: double, RAD: int, TAX: int, PT: double, B: double, LSTAT: double, MV: double]"
      ]
     },
     "execution_count": 6,
     "metadata": {},
     "output_type": "execute_result"
    }
   ],
   "source": [
    "df.cache()"
   ]
  },
  {
   "cell_type": "markdown",
   "metadata": {},
   "source": [
    "PrintSchema()"
   ]
  },
  {
   "cell_type": "code",
   "execution_count": 7,
   "metadata": {
    "colab": {
     "base_uri": "https://localhost:8080/"
    },
    "collapsed": true,
    "executionInfo": {
     "elapsed": 11,
     "status": "ok",
     "timestamp": 1659196988631,
     "user": {
      "displayName": "19BEC4166 Roahit S",
      "userId": "06327347452334748308"
     },
     "user_tz": -330
    },
    "id": "kcAW7NCKwyzW",
    "outputId": "c3c9c756-3b66-474f-d785-02d5fa64b147"
   },
   "outputs": [
    {
     "name": "stdout",
     "output_type": "stream",
     "text": [
      "root\n",
      " |-- CRIM: double (nullable = true)\n",
      " |-- ZN: double (nullable = true)\n",
      " |-- INDUS: double (nullable = true)\n",
      " |-- CHAS: integer (nullable = true)\n",
      " |-- NOX: double (nullable = true)\n",
      " |-- RM: double (nullable = true)\n",
      " |-- AGE: double (nullable = true)\n",
      " |-- DIS: double (nullable = true)\n",
      " |-- RAD: integer (nullable = true)\n",
      " |-- TAX: integer (nullable = true)\n",
      " |-- PT: double (nullable = true)\n",
      " |-- B: double (nullable = true)\n",
      " |-- LSTAT: double (nullable = true)\n",
      " |-- MV: double (nullable = true)\n",
      "\n"
     ]
    }
   ],
   "source": [
    "df.printSchema()"
   ]
  },
  {
   "cell_type": "code",
   "execution_count": 8,
   "metadata": {
    "colab": {
     "base_uri": "https://localhost:8080/"
    },
    "collapsed": true,
    "executionInfo": {
     "elapsed": 1725,
     "status": "ok",
     "timestamp": 1659196990349,
     "user": {
      "displayName": "19BEC4166 Roahit S",
      "userId": "06327347452334748308"
     },
     "user_tz": -330
    },
    "id": "CUQKyVHKwyzX",
    "outputId": "34f32475-44e5-462e-a0f9-e6fe28be7e89"
   },
   "outputs": [
    {
     "name": "stdout",
     "output_type": "stream",
     "text": [
      "+-----------+----+-----------+----+-----------+-----------+-----------+-----------+---+---+-----------+-----------+-----------+-----------+\n",
      "|       CRIM|  ZN|      INDUS|CHAS|        NOX|         RM|        AGE|        DIS|RAD|TAX|         PT|          B|      LSTAT|         MV|\n",
      "+-----------+----+-----------+----+-----------+-----------+-----------+-----------+---+---+-----------+-----------+-----------+-----------+\n",
      "|    0.00632|18.0|2.309999943|   0|0.537999988|6.574999809|65.19999695|4.090000153|  1|296|15.30000019|396.8999939|4.980000019|       24.0|\n",
      "|0.027310001| 0.0|7.070000172|   0|0.469000012|6.421000004|78.90000153|4.967100143|  2|242|17.79999924|396.8999939|9.140000343|21.60000038|\n",
      "|    0.02729| 0.0|7.070000172|   0|0.469000012|7.184999943|61.09999847|4.967100143|  2|242|17.79999924|392.8299866| 4.03000021|34.70000076|\n",
      "|0.032370001| 0.0|2.180000067|   0|0.458000004|6.998000145|45.79999924|6.062200069|  3|222|18.70000076|394.6300049|2.940000057|33.40000153|\n",
      "|0.069049999| 0.0|2.180000067|   0|0.458000004|7.146999836|54.20000076|6.062200069|  3|222|18.70000076|396.8999939|5.329999924|36.20000076|\n",
      "+-----------+----+-----------+----+-----------+-----------+-----------+-----------+---+---+-----------+-----------+-----------+-----------+\n",
      "only showing top 5 rows\n",
      "\n"
     ]
    }
   ],
   "source": [
    "#Reading the dataset \n",
    "df.show(5)"
   ]
  },
  {
   "cell_type": "code",
   "execution_count": 9,
   "metadata": {
    "colab": {
     "base_uri": "https://localhost:8080/",
     "height": 270
    },
    "collapsed": true,
    "executionInfo": {
     "elapsed": 4270,
     "status": "ok",
     "timestamp": 1659196994615,
     "user": {
      "displayName": "19BEC4166 Roahit S",
      "userId": "06327347452334748308"
     },
     "user_tz": -330
    },
    "id": "Ua2yqZliwyzY",
    "outputId": "66def3be-1e0f-444e-df28-8e842ed5d4b4",
    "scrolled": true
   },
   "outputs": [
    {
     "data": {
      "text/html": [
       "\n",
       "  <div id=\"df-7a460807-f346-4778-9840-2cc37fc4dec0\">\n",
       "    <div class=\"colab-df-container\">\n",
       "      <div>\n",
       "<style scoped>\n",
       "    .dataframe tbody tr th:only-of-type {\n",
       "        vertical-align: middle;\n",
       "    }\n",
       "\n",
       "    .dataframe tbody tr th {\n",
       "        vertical-align: top;\n",
       "    }\n",
       "\n",
       "    .dataframe thead th {\n",
       "        text-align: right;\n",
       "    }\n",
       "</style>\n",
       "<table border=\"1\" class=\"dataframe\">\n",
       "  <thead>\n",
       "    <tr style=\"text-align: right;\">\n",
       "      <th></th>\n",
       "      <th>summary</th>\n",
       "      <th>CRIM</th>\n",
       "      <th>ZN</th>\n",
       "      <th>INDUS</th>\n",
       "      <th>CHAS</th>\n",
       "      <th>NOX</th>\n",
       "      <th>RM</th>\n",
       "      <th>AGE</th>\n",
       "      <th>DIS</th>\n",
       "      <th>RAD</th>\n",
       "      <th>TAX</th>\n",
       "      <th>PT</th>\n",
       "      <th>B</th>\n",
       "      <th>LSTAT</th>\n",
       "      <th>MV</th>\n",
       "    </tr>\n",
       "  </thead>\n",
       "  <tbody>\n",
       "    <tr>\n",
       "      <th>0</th>\n",
       "      <td>count</td>\n",
       "      <td>506</td>\n",
       "      <td>506</td>\n",
       "      <td>506</td>\n",
       "      <td>506</td>\n",
       "      <td>506</td>\n",
       "      <td>506</td>\n",
       "      <td>506</td>\n",
       "      <td>506</td>\n",
       "      <td>506</td>\n",
       "      <td>506</td>\n",
       "      <td>506</td>\n",
       "      <td>506</td>\n",
       "      <td>506</td>\n",
       "      <td>506</td>\n",
       "    </tr>\n",
       "    <tr>\n",
       "      <th>1</th>\n",
       "      <td>mean</td>\n",
       "      <td>3.6135235608162057</td>\n",
       "      <td>11.363636363636363</td>\n",
       "      <td>11.136778749531626</td>\n",
       "      <td>0.0691699604743083</td>\n",
       "      <td>0.5546950602312246</td>\n",
       "      <td>6.28463438896641</td>\n",
       "      <td>68.57490120115612</td>\n",
       "      <td>3.7950426960059325</td>\n",
       "      <td>9.549407114624506</td>\n",
       "      <td>408.2371541501976</td>\n",
       "      <td>18.45553382776679</td>\n",
       "      <td>356.67402960597883</td>\n",
       "      <td>12.653063233922925</td>\n",
       "      <td>22.53280636250988</td>\n",
       "    </tr>\n",
       "    <tr>\n",
       "      <th>2</th>\n",
       "      <td>stddev</td>\n",
       "      <td>8.601545086715594</td>\n",
       "      <td>23.32245299451514</td>\n",
       "      <td>6.86035298095724</td>\n",
       "      <td>0.2539940413404101</td>\n",
       "      <td>0.1158776754570543</td>\n",
       "      <td>0.7026171549511354</td>\n",
       "      <td>28.148861532793276</td>\n",
       "      <td>2.105710142043288</td>\n",
       "      <td>8.707259384239366</td>\n",
       "      <td>168.53711605495903</td>\n",
       "      <td>2.164945780039869</td>\n",
       "      <td>91.29486340272308</td>\n",
       "      <td>7.141061500195388</td>\n",
       "      <td>9.197104107945272</td>\n",
       "    </tr>\n",
       "    <tr>\n",
       "      <th>3</th>\n",
       "      <td>min</td>\n",
       "      <td>0.00632</td>\n",
       "      <td>0.0</td>\n",
       "      <td>0.460000008</td>\n",
       "      <td>0</td>\n",
       "      <td>0.38499999</td>\n",
       "      <td>3.561000109</td>\n",
       "      <td>2.900000095</td>\n",
       "      <td>1.129600048</td>\n",
       "      <td>1</td>\n",
       "      <td>187</td>\n",
       "      <td>12.60000038</td>\n",
       "      <td>0.319999993</td>\n",
       "      <td>1.730000019</td>\n",
       "      <td>5.0</td>\n",
       "    </tr>\n",
       "    <tr>\n",
       "      <th>4</th>\n",
       "      <td>max</td>\n",
       "      <td>88.97619629</td>\n",
       "      <td>100.0</td>\n",
       "      <td>27.73999977</td>\n",
       "      <td>1</td>\n",
       "      <td>0.870999992</td>\n",
       "      <td>8.779999733</td>\n",
       "      <td>100.0</td>\n",
       "      <td>12.12650013</td>\n",
       "      <td>24</td>\n",
       "      <td>711</td>\n",
       "      <td>22.0</td>\n",
       "      <td>396.8999939</td>\n",
       "      <td>37.97000122</td>\n",
       "      <td>50.0</td>\n",
       "    </tr>\n",
       "  </tbody>\n",
       "</table>\n",
       "</div>\n",
       "      <button class=\"colab-df-convert\" onclick=\"convertToInteractive('df-7a460807-f346-4778-9840-2cc37fc4dec0')\"\n",
       "              title=\"Convert this dataframe to an interactive table.\"\n",
       "              style=\"display:none;\">\n",
       "        \n",
       "  <svg xmlns=\"http://www.w3.org/2000/svg\" height=\"24px\"viewBox=\"0 0 24 24\"\n",
       "       width=\"24px\">\n",
       "    <path d=\"M0 0h24v24H0V0z\" fill=\"none\"/>\n",
       "    <path d=\"M18.56 5.44l.94 2.06.94-2.06 2.06-.94-2.06-.94-.94-2.06-.94 2.06-2.06.94zm-11 1L8.5 8.5l.94-2.06 2.06-.94-2.06-.94L8.5 2.5l-.94 2.06-2.06.94zm10 10l.94 2.06.94-2.06 2.06-.94-2.06-.94-.94-2.06-.94 2.06-2.06.94z\"/><path d=\"M17.41 7.96l-1.37-1.37c-.4-.4-.92-.59-1.43-.59-.52 0-1.04.2-1.43.59L10.3 9.45l-7.72 7.72c-.78.78-.78 2.05 0 2.83L4 21.41c.39.39.9.59 1.41.59.51 0 1.02-.2 1.41-.59l7.78-7.78 2.81-2.81c.8-.78.8-2.07 0-2.86zM5.41 20L4 18.59l7.72-7.72 1.47 1.35L5.41 20z\"/>\n",
       "  </svg>\n",
       "      </button>\n",
       "      \n",
       "  <style>\n",
       "    .colab-df-container {\n",
       "      display:flex;\n",
       "      flex-wrap:wrap;\n",
       "      gap: 12px;\n",
       "    }\n",
       "\n",
       "    .colab-df-convert {\n",
       "      background-color: #E8F0FE;\n",
       "      border: none;\n",
       "      border-radius: 50%;\n",
       "      cursor: pointer;\n",
       "      display: none;\n",
       "      fill: #1967D2;\n",
       "      height: 32px;\n",
       "      padding: 0 0 0 0;\n",
       "      width: 32px;\n",
       "    }\n",
       "\n",
       "    .colab-df-convert:hover {\n",
       "      background-color: #E2EBFA;\n",
       "      box-shadow: 0px 1px 2px rgba(60, 64, 67, 0.3), 0px 1px 3px 1px rgba(60, 64, 67, 0.15);\n",
       "      fill: #174EA6;\n",
       "    }\n",
       "\n",
       "    [theme=dark] .colab-df-convert {\n",
       "      background-color: #3B4455;\n",
       "      fill: #D2E3FC;\n",
       "    }\n",
       "\n",
       "    [theme=dark] .colab-df-convert:hover {\n",
       "      background-color: #434B5C;\n",
       "      box-shadow: 0px 1px 3px 1px rgba(0, 0, 0, 0.15);\n",
       "      filter: drop-shadow(0px 1px 2px rgba(0, 0, 0, 0.3));\n",
       "      fill: #FFFFFF;\n",
       "    }\n",
       "  </style>\n",
       "\n",
       "      <script>\n",
       "        const buttonEl =\n",
       "          document.querySelector('#df-7a460807-f346-4778-9840-2cc37fc4dec0 button.colab-df-convert');\n",
       "        buttonEl.style.display =\n",
       "          google.colab.kernel.accessAllowed ? 'block' : 'none';\n",
       "\n",
       "        async function convertToInteractive(key) {\n",
       "          const element = document.querySelector('#df-7a460807-f346-4778-9840-2cc37fc4dec0');\n",
       "          const dataTable =\n",
       "            await google.colab.kernel.invokeFunction('convertToInteractive',\n",
       "                                                     [key], {});\n",
       "          if (!dataTable) return;\n",
       "\n",
       "          const docLinkHtml = 'Like what you see? Visit the ' +\n",
       "            '<a target=\"_blank\" href=https://colab.research.google.com/notebooks/data_table.ipynb>data table notebook</a>'\n",
       "            + ' to learn more about interactive tables.';\n",
       "          element.innerHTML = '';\n",
       "          dataTable['output_type'] = 'display_data';\n",
       "          await google.colab.output.renderOutput(dataTable, element);\n",
       "          const docLink = document.createElement('div');\n",
       "          docLink.innerHTML = docLinkHtml;\n",
       "          element.appendChild(docLink);\n",
       "        }\n",
       "      </script>\n",
       "    </div>\n",
       "  </div>\n",
       "  "
      ],
      "text/plain": [
       "  summary                CRIM                  ZN               INDUS  \\\n",
       "0   count                 506                 506                 506   \n",
       "1    mean  3.6135235608162057  11.363636363636363  11.136778749531626   \n",
       "2  stddev   8.601545086715594   23.32245299451514    6.86035298095724   \n",
       "3     min             0.00632                 0.0         0.460000008   \n",
       "4     max         88.97619629               100.0         27.73999977   \n",
       "\n",
       "                 CHAS                 NOX                  RM  \\\n",
       "0                 506                 506                 506   \n",
       "1  0.0691699604743083  0.5546950602312246    6.28463438896641   \n",
       "2  0.2539940413404101  0.1158776754570543  0.7026171549511354   \n",
       "3                   0          0.38499999         3.561000109   \n",
       "4                   1         0.870999992         8.779999733   \n",
       "\n",
       "                  AGE                 DIS                RAD  \\\n",
       "0                 506                 506                506   \n",
       "1   68.57490120115612  3.7950426960059325  9.549407114624506   \n",
       "2  28.148861532793276   2.105710142043288  8.707259384239366   \n",
       "3         2.900000095         1.129600048                  1   \n",
       "4               100.0         12.12650013                 24   \n",
       "\n",
       "                  TAX                 PT                   B  \\\n",
       "0                 506                506                 506   \n",
       "1   408.2371541501976  18.45553382776679  356.67402960597883   \n",
       "2  168.53711605495903  2.164945780039869   91.29486340272308   \n",
       "3                 187        12.60000038         0.319999993   \n",
       "4                 711               22.0         396.8999939   \n",
       "\n",
       "                LSTAT                 MV  \n",
       "0                 506                506  \n",
       "1  12.653063233922925  22.53280636250988  \n",
       "2   7.141061500195388  9.197104107945272  \n",
       "3         1.730000019                5.0  \n",
       "4         37.97000122               50.0  "
      ]
     },
     "execution_count": 9,
     "metadata": {},
     "output_type": "execute_result"
    }
   ],
   "source": [
    "#Dataset description\n",
    "df.describe().toPandas()"
   ]
  },
  {
   "cell_type": "markdown",
   "metadata": {
    "collapsed": true,
    "id": "oPLk9L5YwyzY"
   },
   "source": [
    "## Question 3. Get the correlation between dependent and independent variables\n"
   ]
  },
  {
   "cell_type": "code",
   "execution_count": 10,
   "metadata": {
    "collapsed": true,
    "executionInfo": {
     "elapsed": 21,
     "status": "ok",
     "timestamp": 1659196994622,
     "user": {
      "displayName": "19BEC4166 Roahit S",
      "userId": "06327347452334748308"
     },
     "user_tz": -330
    },
    "id": "TDDsYmvWwyzZ"
   },
   "outputs": [],
   "source": [
    "pandas_df = df.toPandas()\n",
    "pandas_df.head(5)"
   ]
  },
  {
   "cell_type": "markdown",
   "metadata": {
    "colab": {
     "base_uri": "https://localhost:8080/",
     "height": 206
    },
    "collapsed": true,
    "executionInfo": {
     "elapsed": 660,
     "status": "ok",
     "timestamp": 1659196995265,
     "user": {
      "displayName": "19BEC4166 Roahit S",
      "userId": "06327347452334748308"
     },
     "user_tz": -330
    },
    "id": "idh7kiCzwyza",
    "outputId": "e4342888-3bce-453e-cc0f-8ef12e99414d"
   },
   "source": [
    "Correlation explains how one or more variables are related to each other. These variables can be input data features which have been used to forecast our target variable."
   ]
  },
  {
   "cell_type": "raw",
   "metadata": {
    "id": "5-vdjMSVwyza"
   },
   "source": [
    "The correlation coefficients ranges from -1 to 1\n",
    "\n",
    "When it is close to 1, it means that there is a strong positive correlation\n",
    "\n",
    "When correlation coefficient is close to -1, it means that there is a strong negative correlation\n",
    "\n",
    "When the correlation coefficient is close to zero, it means that there is no linear correlation"
   ]
  },
  {
   "cell_type": "code",
   "execution_count": 12,
   "metadata": {
    "colab": {
     "base_uri": "https://localhost:8080/"
    },
    "collapsed": true,
    "executionInfo": {
     "elapsed": 26,
     "status": "ok",
     "timestamp": 1659196995266,
     "user": {
      "displayName": "19BEC4166 Roahit S",
      "userId": "06327347452334748308"
     },
     "user_tz": -330
    },
    "id": "aNjVDGHMwyza",
    "outputId": "7469dc18-5c19-4ac1-a48f-8ee73c4aa092"
   },
   "outputs": [
    {
     "data": {
      "text/plain": [
       "CRIM    -0.388305\n",
       "ZN       0.360445\n",
       "INDUS   -0.483725\n",
       "CHAS     0.175260\n",
       "NOX     -0.427321\n",
       "RM       0.695360\n",
       "AGE     -0.376955\n",
       "DIS      0.249929\n",
       "RAD     -0.381626\n",
       "TAX     -0.468536\n",
       "PT      -0.507787\n",
       "B        0.333461\n",
       "LSTAT   -0.737663\n",
       "MV       1.000000\n",
       "Name: MV, dtype: float64"
      ]
     },
     "execution_count": 12,
     "metadata": {},
     "output_type": "execute_result"
    }
   ],
   "source": [
    "pandas_df.corr()['MV']"
   ]
  },
  {
   "cell_type": "raw",
   "metadata": {
    "id": "O4MN6Mb5wyzb"
   },
   "source": [
    "The house price increases if the number of rooms goes up\n",
    "And\n",
    "The house price tends to go down when the percentage of lower status of the population goes down"
   ]
  },
  {
   "cell_type": "raw",
   "metadata": {
    "id": "j6THPbrcwyzc"
   },
   "source": [
    "The Spark ML algorithms expects the data to be represented in two columns: \n",
    "1. Feature\n",
    "2. Label"
   ]
  },
  {
   "cell_type": "code",
   "execution_count": 13,
   "metadata": {
    "collapsed": true,
    "executionInfo": {
     "elapsed": 23,
     "status": "ok",
     "timestamp": 1659196995268,
     "user": {
      "displayName": "19BEC4166 Roahit S",
      "userId": "06327347452334748308"
     },
     "user_tz": -330
    },
    "id": "oRMruVOuwyzc"
   },
   "outputs": [],
   "source": [
    "feature_columns = df.columns[:-1]"
   ]
  },
  {
   "cell_type": "code",
   "execution_count": 14,
   "metadata": {
    "colab": {
     "base_uri": "https://localhost:8080/"
    },
    "executionInfo": {
     "elapsed": 24,
     "status": "ok",
     "timestamp": 1659196995270,
     "user": {
      "displayName": "19BEC4166 Roahit S",
      "userId": "06327347452334748308"
     },
     "user_tz": -330
    },
    "id": "MPq3Mt7pwyzd",
    "outputId": "d4e0f6f6-ccf9-4b26-a5c3-4d411b3a276b"
   },
   "outputs": [
    {
     "data": {
      "text/plain": [
       "['CRIM',\n",
       " 'ZN',\n",
       " 'INDUS',\n",
       " 'CHAS',\n",
       " 'NOX',\n",
       " 'RM',\n",
       " 'AGE',\n",
       " 'DIS',\n",
       " 'RAD',\n",
       " 'TAX',\n",
       " 'PT',\n",
       " 'B',\n",
       " 'LSTAT']"
      ]
     },
     "execution_count": 14,
     "metadata": {},
     "output_type": "execute_result"
    }
   ],
   "source": [
    "feature_columns"
   ]
  },
  {
   "cell_type": "markdown",
   "metadata": {
    "id": "cXXNpWSewyzd"
   },
   "source": [
    "## Question 4: Build a linear regression model to predict house price"
   ]
  },
  {
   "cell_type": "code",
   "execution_count": 15,
   "metadata": {
    "collapsed": true,
    "executionInfo": {
     "elapsed": 22,
     "status": "ok",
     "timestamp": 1659196995271,
     "user": {
      "displayName": "19BEC4166 Roahit S",
      "userId": "06327347452334748308"
     },
     "user_tz": -330
    },
    "id": "rZWm8o8Lwyze"
   },
   "outputs": [],
   "source": [
    "from pyspark.ml.feature import VectorAssembler"
   ]
  },
  {
   "cell_type": "code",
   "execution_count": 16,
   "metadata": {
    "collapsed": true,
    "executionInfo": {
     "elapsed": 20,
     "status": "ok",
     "timestamp": 1659196995273,
     "user": {
      "displayName": "19BEC4166 Roahit S",
      "userId": "06327347452334748308"
     },
     "user_tz": -330
    },
    "id": "IoqNBauRwyze"
   },
   "outputs": [],
   "source": [
    "assembler = VectorAssembler(inputCols= feature_columns, outputCol= \"features\")"
   ]
  },
  {
   "cell_type": "code",
   "execution_count": 17,
   "metadata": {
    "collapsed": true,
    "executionInfo": {
     "elapsed": 378,
     "status": "ok",
     "timestamp": 1659196995632,
     "user": {
      "displayName": "19BEC4166 Roahit S",
      "userId": "06327347452334748308"
     },
     "user_tz": -330
    },
    "id": "d5_kwBFCwyzf"
   },
   "outputs": [],
   "source": [
    "vector = assembler.transform(df)"
   ]
  },
  {
   "cell_type": "code",
   "execution_count": 18,
   "metadata": {
    "colab": {
     "base_uri": "https://localhost:8080/",
     "height": 206
    },
    "executionInfo": {
     "elapsed": 678,
     "status": "ok",
     "timestamp": 1659196996307,
     "user": {
      "displayName": "19BEC4166 Roahit S",
      "userId": "06327347452334748308"
     },
     "user_tz": -330
    },
    "id": "QV5gpxXXwyzf",
    "outputId": "76bc292c-53a3-4f44-ada3-bfdd05005970"
   },
   "outputs": [
    {
     "data": {
      "text/html": [
       "\n",
       "  <div id=\"df-cf092e27-9023-4255-b7b6-cc5485200f9e\">\n",
       "    <div class=\"colab-df-container\">\n",
       "      <div>\n",
       "<style scoped>\n",
       "    .dataframe tbody tr th:only-of-type {\n",
       "        vertical-align: middle;\n",
       "    }\n",
       "\n",
       "    .dataframe tbody tr th {\n",
       "        vertical-align: top;\n",
       "    }\n",
       "\n",
       "    .dataframe thead th {\n",
       "        text-align: right;\n",
       "    }\n",
       "</style>\n",
       "<table border=\"1\" class=\"dataframe\">\n",
       "  <thead>\n",
       "    <tr style=\"text-align: right;\">\n",
       "      <th></th>\n",
       "      <th>CRIM</th>\n",
       "      <th>ZN</th>\n",
       "      <th>INDUS</th>\n",
       "      <th>CHAS</th>\n",
       "      <th>NOX</th>\n",
       "      <th>RM</th>\n",
       "      <th>AGE</th>\n",
       "      <th>DIS</th>\n",
       "      <th>RAD</th>\n",
       "      <th>TAX</th>\n",
       "      <th>PT</th>\n",
       "      <th>B</th>\n",
       "      <th>LSTAT</th>\n",
       "      <th>MV</th>\n",
       "      <th>features</th>\n",
       "    </tr>\n",
       "  </thead>\n",
       "  <tbody>\n",
       "    <tr>\n",
       "      <th>0</th>\n",
       "      <td>0.00632</td>\n",
       "      <td>18.0</td>\n",
       "      <td>2.31</td>\n",
       "      <td>0</td>\n",
       "      <td>0.538</td>\n",
       "      <td>6.575</td>\n",
       "      <td>65.199997</td>\n",
       "      <td>4.0900</td>\n",
       "      <td>1</td>\n",
       "      <td>296</td>\n",
       "      <td>15.300000</td>\n",
       "      <td>396.899994</td>\n",
       "      <td>4.98</td>\n",
       "      <td>24.000000</td>\n",
       "      <td>[0.00632, 18.0, 2.309999943, 0.0, 0.537999988,...</td>\n",
       "    </tr>\n",
       "    <tr>\n",
       "      <th>1</th>\n",
       "      <td>0.02731</td>\n",
       "      <td>0.0</td>\n",
       "      <td>7.07</td>\n",
       "      <td>0</td>\n",
       "      <td>0.469</td>\n",
       "      <td>6.421</td>\n",
       "      <td>78.900002</td>\n",
       "      <td>4.9671</td>\n",
       "      <td>2</td>\n",
       "      <td>242</td>\n",
       "      <td>17.799999</td>\n",
       "      <td>396.899994</td>\n",
       "      <td>9.14</td>\n",
       "      <td>21.600000</td>\n",
       "      <td>[0.027310001, 0.0, 7.070000172, 0.0, 0.4690000...</td>\n",
       "    </tr>\n",
       "    <tr>\n",
       "      <th>2</th>\n",
       "      <td>0.02729</td>\n",
       "      <td>0.0</td>\n",
       "      <td>7.07</td>\n",
       "      <td>0</td>\n",
       "      <td>0.469</td>\n",
       "      <td>7.185</td>\n",
       "      <td>61.099998</td>\n",
       "      <td>4.9671</td>\n",
       "      <td>2</td>\n",
       "      <td>242</td>\n",
       "      <td>17.799999</td>\n",
       "      <td>392.829987</td>\n",
       "      <td>4.03</td>\n",
       "      <td>34.700001</td>\n",
       "      <td>[0.02729, 0.0, 7.070000172, 0.0, 0.469000012, ...</td>\n",
       "    </tr>\n",
       "    <tr>\n",
       "      <th>3</th>\n",
       "      <td>0.03237</td>\n",
       "      <td>0.0</td>\n",
       "      <td>2.18</td>\n",
       "      <td>0</td>\n",
       "      <td>0.458</td>\n",
       "      <td>6.998</td>\n",
       "      <td>45.799999</td>\n",
       "      <td>6.0622</td>\n",
       "      <td>3</td>\n",
       "      <td>222</td>\n",
       "      <td>18.700001</td>\n",
       "      <td>394.630005</td>\n",
       "      <td>2.94</td>\n",
       "      <td>33.400002</td>\n",
       "      <td>[0.032370001, 0.0, 2.180000067, 0.0, 0.4580000...</td>\n",
       "    </tr>\n",
       "    <tr>\n",
       "      <th>4</th>\n",
       "      <td>0.06905</td>\n",
       "      <td>0.0</td>\n",
       "      <td>2.18</td>\n",
       "      <td>0</td>\n",
       "      <td>0.458</td>\n",
       "      <td>7.147</td>\n",
       "      <td>54.200001</td>\n",
       "      <td>6.0622</td>\n",
       "      <td>3</td>\n",
       "      <td>222</td>\n",
       "      <td>18.700001</td>\n",
       "      <td>396.899994</td>\n",
       "      <td>5.33</td>\n",
       "      <td>36.200001</td>\n",
       "      <td>[0.069049999, 0.0, 2.180000067, 0.0, 0.4580000...</td>\n",
       "    </tr>\n",
       "  </tbody>\n",
       "</table>\n",
       "</div>\n",
       "      <button class=\"colab-df-convert\" onclick=\"convertToInteractive('df-cf092e27-9023-4255-b7b6-cc5485200f9e')\"\n",
       "              title=\"Convert this dataframe to an interactive table.\"\n",
       "              style=\"display:none;\">\n",
       "        \n",
       "  <svg xmlns=\"http://www.w3.org/2000/svg\" height=\"24px\"viewBox=\"0 0 24 24\"\n",
       "       width=\"24px\">\n",
       "    <path d=\"M0 0h24v24H0V0z\" fill=\"none\"/>\n",
       "    <path d=\"M18.56 5.44l.94 2.06.94-2.06 2.06-.94-2.06-.94-.94-2.06-.94 2.06-2.06.94zm-11 1L8.5 8.5l.94-2.06 2.06-.94-2.06-.94L8.5 2.5l-.94 2.06-2.06.94zm10 10l.94 2.06.94-2.06 2.06-.94-2.06-.94-.94-2.06-.94 2.06-2.06.94z\"/><path d=\"M17.41 7.96l-1.37-1.37c-.4-.4-.92-.59-1.43-.59-.52 0-1.04.2-1.43.59L10.3 9.45l-7.72 7.72c-.78.78-.78 2.05 0 2.83L4 21.41c.39.39.9.59 1.41.59.51 0 1.02-.2 1.41-.59l7.78-7.78 2.81-2.81c.8-.78.8-2.07 0-2.86zM5.41 20L4 18.59l7.72-7.72 1.47 1.35L5.41 20z\"/>\n",
       "  </svg>\n",
       "      </button>\n",
       "      \n",
       "  <style>\n",
       "    .colab-df-container {\n",
       "      display:flex;\n",
       "      flex-wrap:wrap;\n",
       "      gap: 12px;\n",
       "    }\n",
       "\n",
       "    .colab-df-convert {\n",
       "      background-color: #E8F0FE;\n",
       "      border: none;\n",
       "      border-radius: 50%;\n",
       "      cursor: pointer;\n",
       "      display: none;\n",
       "      fill: #1967D2;\n",
       "      height: 32px;\n",
       "      padding: 0 0 0 0;\n",
       "      width: 32px;\n",
       "    }\n",
       "\n",
       "    .colab-df-convert:hover {\n",
       "      background-color: #E2EBFA;\n",
       "      box-shadow: 0px 1px 2px rgba(60, 64, 67, 0.3), 0px 1px 3px 1px rgba(60, 64, 67, 0.15);\n",
       "      fill: #174EA6;\n",
       "    }\n",
       "\n",
       "    [theme=dark] .colab-df-convert {\n",
       "      background-color: #3B4455;\n",
       "      fill: #D2E3FC;\n",
       "    }\n",
       "\n",
       "    [theme=dark] .colab-df-convert:hover {\n",
       "      background-color: #434B5C;\n",
       "      box-shadow: 0px 1px 3px 1px rgba(0, 0, 0, 0.15);\n",
       "      filter: drop-shadow(0px 1px 2px rgba(0, 0, 0, 0.3));\n",
       "      fill: #FFFFFF;\n",
       "    }\n",
       "  </style>\n",
       "\n",
       "      <script>\n",
       "        const buttonEl =\n",
       "          document.querySelector('#df-cf092e27-9023-4255-b7b6-cc5485200f9e button.colab-df-convert');\n",
       "        buttonEl.style.display =\n",
       "          google.colab.kernel.accessAllowed ? 'block' : 'none';\n",
       "\n",
       "        async function convertToInteractive(key) {\n",
       "          const element = document.querySelector('#df-cf092e27-9023-4255-b7b6-cc5485200f9e');\n",
       "          const dataTable =\n",
       "            await google.colab.kernel.invokeFunction('convertToInteractive',\n",
       "                                                     [key], {});\n",
       "          if (!dataTable) return;\n",
       "\n",
       "          const docLinkHtml = 'Like what you see? Visit the ' +\n",
       "            '<a target=\"_blank\" href=https://colab.research.google.com/notebooks/data_table.ipynb>data table notebook</a>'\n",
       "            + ' to learn more about interactive tables.';\n",
       "          element.innerHTML = '';\n",
       "          dataTable['output_type'] = 'display_data';\n",
       "          await google.colab.output.renderOutput(dataTable, element);\n",
       "          const docLink = document.createElement('div');\n",
       "          docLink.innerHTML = docLinkHtml;\n",
       "          element.appendChild(docLink);\n",
       "        }\n",
       "      </script>\n",
       "    </div>\n",
       "  </div>\n",
       "  "
      ],
      "text/plain": [
       "      CRIM    ZN  INDUS  CHAS    NOX     RM        AGE     DIS  RAD  TAX  \\\n",
       "0  0.00632  18.0   2.31     0  0.538  6.575  65.199997  4.0900    1  296   \n",
       "1  0.02731   0.0   7.07     0  0.469  6.421  78.900002  4.9671    2  242   \n",
       "2  0.02729   0.0   7.07     0  0.469  7.185  61.099998  4.9671    2  242   \n",
       "3  0.03237   0.0   2.18     0  0.458  6.998  45.799999  6.0622    3  222   \n",
       "4  0.06905   0.0   2.18     0  0.458  7.147  54.200001  6.0622    3  222   \n",
       "\n",
       "          PT           B  LSTAT         MV  \\\n",
       "0  15.300000  396.899994   4.98  24.000000   \n",
       "1  17.799999  396.899994   9.14  21.600000   \n",
       "2  17.799999  392.829987   4.03  34.700001   \n",
       "3  18.700001  394.630005   2.94  33.400002   \n",
       "4  18.700001  396.899994   5.33  36.200001   \n",
       "\n",
       "                                            features  \n",
       "0  [0.00632, 18.0, 2.309999943, 0.0, 0.537999988,...  \n",
       "1  [0.027310001, 0.0, 7.070000172, 0.0, 0.4690000...  \n",
       "2  [0.02729, 0.0, 7.070000172, 0.0, 0.469000012, ...  \n",
       "3  [0.032370001, 0.0, 2.180000067, 0.0, 0.4580000...  \n",
       "4  [0.069049999, 0.0, 2.180000067, 0.0, 0.4580000...  "
      ]
     },
     "execution_count": 18,
     "metadata": {},
     "output_type": "execute_result"
    }
   ],
   "source": [
    "pands_vector = vector.toPandas()\n",
    "pands_vector.head()"
   ]
  },
  {
   "cell_type": "code",
   "execution_count": 19,
   "metadata": {
    "colab": {
     "base_uri": "https://localhost:8080/"
    },
    "executionInfo": {
     "elapsed": 414,
     "status": "ok",
     "timestamp": 1659196996704,
     "user": {
      "displayName": "19BEC4166 Roahit S",
      "userId": "06327347452334748308"
     },
     "user_tz": -330
    },
    "id": "uMiSGcMFwyzf",
    "outputId": "6b01bd89-4d6c-4cfe-843b-2b610e8c7692"
   },
   "outputs": [
    {
     "name": "stdout",
     "output_type": "stream",
     "text": [
      "+-----------+----+-----------+----+-----------+-----------+-----------+-----------+---+---+-----------+-----------+-----------+-----------+--------------------+\n",
      "|       CRIM|  ZN|      INDUS|CHAS|        NOX|         RM|        AGE|        DIS|RAD|TAX|         PT|          B|      LSTAT|         MV|            features|\n",
      "+-----------+----+-----------+----+-----------+-----------+-----------+-----------+---+---+-----------+-----------+-----------+-----------+--------------------+\n",
      "|    0.00632|18.0|2.309999943|   0|0.537999988|6.574999809|65.19999695|4.090000153|  1|296|15.30000019|396.8999939|4.980000019|       24.0|[0.00632,18.0,2.3...|\n",
      "|0.027310001| 0.0|7.070000172|   0|0.469000012|6.421000004|78.90000153|4.967100143|  2|242|17.79999924|396.8999939|9.140000343|21.60000038|[0.027310001,0.0,...|\n",
      "|    0.02729| 0.0|7.070000172|   0|0.469000012|7.184999943|61.09999847|4.967100143|  2|242|17.79999924|392.8299866| 4.03000021|34.70000076|[0.02729,0.0,7.07...|\n",
      "|0.032370001| 0.0|2.180000067|   0|0.458000004|6.998000145|45.79999924|6.062200069|  3|222|18.70000076|394.6300049|2.940000057|33.40000153|[0.032370001,0.0,...|\n",
      "|0.069049999| 0.0|2.180000067|   0|0.458000004|7.146999836|54.20000076|6.062200069|  3|222|18.70000076|396.8999939|5.329999924|36.20000076|[0.069049999,0.0,...|\n",
      "|0.029850001| 0.0|2.180000067|   0|0.458000004|6.429999828|58.70000076|6.062200069|  3|222|18.70000076|394.1199951|5.210000038|28.70000076|[0.029850001,0.0,...|\n",
      "|0.088289998|12.5|7.869999886|   0|0.523999989|6.012000084|66.59999847|5.560500145|  5|311|15.19999981|395.6000061|12.43000031|22.89999962|[0.088289998,12.5...|\n",
      "|0.144549996|12.5|7.869999886|   0|0.523999989|6.171999931|96.09999847|5.950500011|  5|311|15.19999981|396.8999939|19.14999962|27.10000038|[0.144549996,12.5...|\n",
      "|0.211239994|12.5|7.869999886|   0|0.523999989|5.631000042|      100.0|6.082099915|  5|311|15.19999981|386.6300049|29.93000031|       16.5|[0.211239994,12.5...|\n",
      "|0.170039997|12.5|7.869999886|   0|0.523999989|6.004000187|85.90000153|6.592100143|  5|311|15.19999981|386.7099915|17.10000038|18.89999962|[0.170039997,12.5...|\n",
      "|0.224889994|12.5|7.869999886|   0|0.523999989|6.376999855|94.30000305|6.346700191|  5|311|15.19999981| 392.519989|20.45000076|       15.0|[0.224889994,12.5...|\n",
      "|0.117470004|12.5|7.869999886|   0|0.523999989|6.008999825|82.90000153|6.226699829|  5|311|15.19999981|396.8999939|13.27000046|18.89999962|[0.117470004,12.5...|\n",
      "|0.093780003|12.5|7.869999886|   0|0.523999989|5.888999939|       39.0|5.450900078|  5|311|15.19999981|      390.5|15.71000004|21.70000076|[0.093780003,12.5...|\n",
      "|0.629760027| 0.0|8.140000343|   0|0.537999988|5.948999882|61.79999924|4.707499981|  4|307|       21.0|396.8999939|8.260000229|20.39999962|[0.629760027,0.0,...|\n",
      "|0.637960017| 0.0|8.140000343|   0|0.537999988|6.096000195|       84.5|4.461900234|  4|307|       21.0| 380.019989|10.26000023|18.20000076|[0.637960017,0.0,...|\n",
      "|0.627390027| 0.0|8.140000343|   0|0.537999988|5.834000111|       56.5|4.498600006|  4|307|       21.0|395.6199951|8.470000267|19.89999962|[0.627390027,0.0,...|\n",
      "|1.053930044| 0.0|8.140000343|   0|0.537999988|5.934999943|29.29999924|4.498600006|  4|307|       21.0|386.8500061|6.579999924|23.10000038|[1.053930044,0.0,...|\n",
      "|0.784200013| 0.0|8.140000343|   0|0.537999988|5.989999771|81.69999695|4.257900238|  4|307|       21.0|     386.75|14.67000008|       17.5|[0.784200013,0.0,...|\n",
      "|0.802709997| 0.0|8.140000343|   0|0.537999988|5.455999851|36.59999847|3.796499968|  4|307|       21.0|288.9899902|11.68999958|20.20000076|[0.802709997,0.0,...|\n",
      "|0.725799978| 0.0|8.140000343|   0|0.537999988|5.727000237|       69.5|3.796499968|  4|307|       21.0|390.9500122|11.27999973|18.20000076|[0.725799978,0.0,...|\n",
      "+-----------+----+-----------+----+-----------+-----------+-----------+-----------+---+---+-----------+-----------+-----------+-----------+--------------------+\n",
      "only showing top 20 rows\n",
      "\n"
     ]
    }
   ],
   "source": [
    "vector.show()"
   ]
  },
  {
   "cell_type": "code",
   "execution_count": 20,
   "metadata": {
    "colab": {
     "base_uri": "https://localhost:8080/"
    },
    "executionInfo": {
     "elapsed": 7,
     "status": "ok",
     "timestamp": 1659196996704,
     "user": {
      "displayName": "19BEC4166 Roahit S",
      "userId": "06327347452334748308"
     },
     "user_tz": -330
    },
    "id": "diu4j2bPwyzg",
    "outputId": "4727af18-6d8a-43f1-cadb-2d29edd14b9d"
   },
   "outputs": [
    {
     "name": "stdout",
     "output_type": "stream",
     "text": [
      "+--------------------+-----------+\n",
      "|            features|         MV|\n",
      "+--------------------+-----------+\n",
      "|[0.00632,18.0,2.3...|       24.0|\n",
      "|[0.027310001,0.0,...|21.60000038|\n",
      "|[0.02729,0.0,7.07...|34.70000076|\n",
      "|[0.032370001,0.0,...|33.40000153|\n",
      "|[0.069049999,0.0,...|36.20000076|\n",
      "|[0.029850001,0.0,...|28.70000076|\n",
      "|[0.088289998,12.5...|22.89999962|\n",
      "|[0.144549996,12.5...|27.10000038|\n",
      "|[0.211239994,12.5...|       16.5|\n",
      "|[0.170039997,12.5...|18.89999962|\n",
      "|[0.224889994,12.5...|       15.0|\n",
      "|[0.117470004,12.5...|18.89999962|\n",
      "|[0.093780003,12.5...|21.70000076|\n",
      "|[0.629760027,0.0,...|20.39999962|\n",
      "|[0.637960017,0.0,...|18.20000076|\n",
      "|[0.627390027,0.0,...|19.89999962|\n",
      "|[1.053930044,0.0,...|23.10000038|\n",
      "|[0.784200013,0.0,...|       17.5|\n",
      "|[0.802709997,0.0,...|20.20000076|\n",
      "|[0.725799978,0.0,...|18.20000076|\n",
      "+--------------------+-----------+\n",
      "only showing top 20 rows\n",
      "\n"
     ]
    }
   ],
   "source": [
    "vector_df = vector.select(['features', 'MV'])\n",
    "vector_df.show()"
   ]
  },
  {
   "cell_type": "code",
   "execution_count": 21,
   "metadata": {
    "collapsed": true,
    "executionInfo": {
     "elapsed": 5,
     "status": "ok",
     "timestamp": 1659196996705,
     "user": {
      "displayName": "19BEC4166 Roahit S",
      "userId": "06327347452334748308"
     },
     "user_tz": -330
    },
    "id": "-Ep9WDtLwyzg"
   },
   "outputs": [],
   "source": [
    "splits = vector_df.randomSplit([0.7, 0.3])\n",
    "train_df = splits[0]\n",
    "test_df = splits[1]"
   ]
  },
  {
   "cell_type": "code",
   "execution_count": 22,
   "metadata": {
    "collapsed": true,
    "executionInfo": {
     "elapsed": 5,
     "status": "ok",
     "timestamp": 1659196996705,
     "user": {
      "displayName": "19BEC4166 Roahit S",
      "userId": "06327347452334748308"
     },
     "user_tz": -330
    },
    "id": "17K5u4vgwyzg"
   },
   "outputs": [],
   "source": [
    "from pyspark.ml.regression import LinearRegression"
   ]
  },
  {
   "cell_type": "code",
   "execution_count": 23,
   "metadata": {
    "collapsed": true,
    "executionInfo": {
     "elapsed": 2040,
     "status": "ok",
     "timestamp": 1659196998741,
     "user": {
      "displayName": "19BEC4166 Roahit S",
      "userId": "06327347452334748308"
     },
     "user_tz": -330
    },
    "id": "7OShs0ZWwyzh"
   },
   "outputs": [],
   "source": [
    "model = LinearRegression(featuresCol= 'features', labelCol= 'MV')\n",
    "model_lr = model.fit(train_df)    "
   ]
  },
  {
   "cell_type": "code",
   "execution_count": 24,
   "metadata": {
    "colab": {
     "base_uri": "https://localhost:8080/"
    },
    "executionInfo": {
     "elapsed": 13,
     "status": "ok",
     "timestamp": 1659196998742,
     "user": {
      "displayName": "19BEC4166 Roahit S",
      "userId": "06327347452334748308"
     },
     "user_tz": -330
    },
    "id": "d1Ts7y0Zwyzh",
    "outputId": "534ba41e-cb3f-4164-8829-9e79b11c6274"
   },
   "outputs": [
    {
     "data": {
      "text/plain": [
       "DenseVector([-0.1441, 0.051, 0.0069, 3.0814, -18.511, 3.6444, -0.0039, -1.5512, 0.4124, -0.0149, -0.9981, 0.01, -0.5169])"
      ]
     },
     "execution_count": 24,
     "metadata": {},
     "output_type": "execute_result"
    }
   ],
   "source": [
    "model_lr.coefficients"
   ]
  },
  {
   "cell_type": "code",
   "execution_count": 25,
   "metadata": {
    "collapsed": true,
    "executionInfo": {
     "elapsed": 12,
     "status": "ok",
     "timestamp": 1659196998743,
     "user": {
      "displayName": "19BEC4166 Roahit S",
      "userId": "06327347452334748308"
     },
     "user_tz": -330
    },
    "id": "oe_154N_wyzi"
   },
   "outputs": [],
   "source": [
    "# CRIM - Per Capita crime rate \n",
    "# ZN - Proportion of residential land zoned for lots over 25000 sq. ft\n",
    "# INDUS - Proportion of non-retial business acres \n",
    "# CHAS - Charles River dummy variable (1 - if tracts bounds river, 0 -otherwise)\n",
    "# NOX - Nitrogen Oxide concentration\n",
    "# RM - Average number of rooms per dwelling\n",
    "# AGE - Proportion of owner-occupied unit built prior 1940\n",
    "# DIS - Weighted MEan of distances of five Boston Employement Centres\n",
    "# RAD - Index of accessibilities to Radial highways\n",
    "# TAX - Full-value-property-tax rates per $10,000\n",
    "# PT - Pupil-teacher Ratio\n",
    "# B - proportion of blacks \n",
    "# LSTAT - Lower Status of the Population (%)\n",
    "# MV - Median Value of homes "
   ]
  },
  {
   "cell_type": "raw",
   "metadata": {
    "id": "wpN2bXVJwyzi"
   },
   "source": [
    "MV = -0.1206(CRIM) + 0.531 (ZN)+........"
   ]
  },
  {
   "cell_type": "code",
   "execution_count": 26,
   "metadata": {
    "colab": {
     "base_uri": "https://localhost:8080/"
    },
    "executionInfo": {
     "elapsed": 13,
     "status": "ok",
     "timestamp": 1659196998744,
     "user": {
      "displayName": "19BEC4166 Roahit S",
      "userId": "06327347452334748308"
     },
     "user_tz": -330
    },
    "id": "-R52SqtCwyzi",
    "outputId": "ad4b298a-c9b8-4813-fb01-9a47a5a4de33"
   },
   "outputs": [
    {
     "data": {
      "text/plain": [
       "39.267672567791216"
      ]
     },
     "execution_count": 26,
     "metadata": {},
     "output_type": "execute_result"
    }
   ],
   "source": [
    "model_lr.intercept"
   ]
  },
  {
   "cell_type": "code",
   "execution_count": 27,
   "metadata": {
    "colab": {
     "base_uri": "https://localhost:8080/"
    },
    "executionInfo": {
     "elapsed": 10,
     "status": "ok",
     "timestamp": 1659196998744,
     "user": {
      "displayName": "19BEC4166 Roahit S",
      "userId": "06327347452334748308"
     },
     "user_tz": -330
    },
    "id": "jFWfFQcvwyzj",
    "outputId": "c340cca6-1c2b-4f9c-a7a7-3c32dac1c8ec"
   },
   "outputs": [
    {
     "name": "stdout",
     "output_type": "stream",
     "text": [
      "+--------------------+-----------+------------------+\n",
      "|            features|         MV|        prediction|\n",
      "+--------------------+-----------+------------------+\n",
      "|[0.01311,90.0,1.2...|35.40000153|31.553693632343943|\n",
      "|[0.02055,85.0,0.7...|24.70000076|24.768308541596152|\n",
      "|[0.02177,82.5,2.0...|42.29999924| 37.06391646804898|\n",
      "|[0.02187,60.0,2.9...|31.10000038| 32.24792705080656|\n",
      "|[0.02899,40.0,1.2...|26.60000038|21.499407704123705|\n",
      "|[0.033059999,0.0,...|20.60000038|22.368885139341153|\n",
      "|[0.034449998,82.5...|24.10000038| 29.44766870147291|\n",
      "|[0.035020001,80.0...|       28.5|  33.8149350587754|\n",
      "|[0.035100002,95.0...|       48.5| 42.57840661736431|\n",
      "|[0.03548,80.0,3.6...|20.89999962| 21.67021644061087|\n",
      "|[0.041129999,25.0...|       28.0|28.429351844801612|\n",
      "|[0.042939998,28.0...|20.60000038| 27.02994546526208|\n",
      "|[0.043790001,80.0...|19.39999962|25.945472554950186|\n",
      "|[0.04544,0.0,3.24...|19.79999924|21.280646033398444|\n",
      "|[0.049320001,33.0...|28.20000076| 33.26874085034083|\n",
      "|[0.055610001,70.0...|       29.0| 32.13915664093983|\n",
      "|[0.056019999,0.0,...|       50.0| 35.84085446574936|\n",
      "|[0.056439999,40.0...|32.40000153|36.773693525717945|\n",
      "|[0.057799999,0.0,...|37.20000076| 33.03273378550101|\n",
      "|[0.057890002,12.5...|       22.0|21.047076185372156|\n",
      "+--------------------+-----------+------------------+\n",
      "only showing top 20 rows\n",
      "\n"
     ]
    }
   ],
   "source": [
    "predictions = model_lr.transform(test_df) # we use transform method to test the model\n",
    "predictions.show()"
   ]
  },
  {
   "cell_type": "markdown",
   "metadata": {
    "id": "W6djXutYwyzj"
   },
   "source": [
    "## Question 5: Evaluate the Linear Regression model by getting the RMSE and R-squared values"
   ]
  },
  {
   "cell_type": "code",
   "execution_count": 28,
   "metadata": {
    "collapsed": true,
    "executionInfo": {
     "elapsed": 472,
     "status": "ok",
     "timestamp": 1659196999208,
     "user": {
      "displayName": "19BEC4166 Roahit S",
      "userId": "06327347452334748308"
     },
     "user_tz": -330
    },
    "id": "uN2X02NLwyzk"
   },
   "outputs": [],
   "source": [
    "summary = model_lr.evaluate(test_df)"
   ]
  },
  {
   "cell_type": "markdown",
   "metadata": {
    "id": "lDFZYAdQwyzk"
   },
   "source": [
    "#### RMSE"
   ]
  },
  {
   "cell_type": "code",
   "execution_count": 29,
   "metadata": {
    "colab": {
     "base_uri": "https://localhost:8080/"
    },
    "executionInfo": {
     "elapsed": 10,
     "status": "ok",
     "timestamp": 1659196999209,
     "user": {
      "displayName": "19BEC4166 Roahit S",
      "userId": "06327347452334748308"
     },
     "user_tz": -330
    },
    "id": "Nl8nOD13wyzl",
    "outputId": "3cc39e03-adb1-4755-9c53-cf415e3d1e63"
   },
   "outputs": [
    {
     "name": "stdout",
     "output_type": "stream",
     "text": [
      "4.46829041377678\n"
     ]
    }
   ],
   "source": [
    "print(summary.rootMeanSquaredError)"
   ]
  },
  {
   "cell_type": "markdown",
   "metadata": {
    "id": "RwRAAuS3wyzl"
   },
   "source": [
    "#### R-squared"
   ]
  },
  {
   "cell_type": "code",
   "execution_count": 30,
   "metadata": {
    "colab": {
     "base_uri": "https://localhost:8080/"
    },
    "executionInfo": {
     "elapsed": 9,
     "status": "ok",
     "timestamp": 1659196999210,
     "user": {
      "displayName": "19BEC4166 Roahit S",
      "userId": "06327347452334748308"
     },
     "user_tz": -330
    },
    "id": "pEzoP5XGwyzm",
    "outputId": "480e13df-d60e-40f9-f92f-13920d225616"
   },
   "outputs": [
    {
     "name": "stdout",
     "output_type": "stream",
     "text": [
      "0.7668479296315855\n"
     ]
    }
   ],
   "source": [
    "print(summary.r2)"
   ]
  }
 ],
 "metadata": {
  "colab": {
   "authorship_tag": "ABX9TyNrk6OPffYBG/WvnGrP9in0",
   "collapsed_sections": [],
   "name": "hadoop and spark exam.ipynb",
   "provenance": []
  },
  "kernelspec": {
   "display_name": "Python 3 (ipykernel)",
   "language": "python",
   "name": "python3"
  },
  "language_info": {
   "codemirror_mode": {
    "name": "ipython",
    "version": 3
   },
   "file_extension": ".py",
   "mimetype": "text/x-python",
   "name": "python",
   "nbconvert_exporter": "python",
   "pygments_lexer": "ipython3",
   "version": "3.9.7"
  }
 },
 "nbformat": 4,
 "nbformat_minor": 1
}
